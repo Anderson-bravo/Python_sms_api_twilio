{
 "cells": [
  {
   "cell_type": "code",
   "execution_count": 4,
   "metadata": {},
   "outputs": [
    {
     "name": "stdout",
     "output_type": "stream",
     "text": [
      "SM8c41bdaaea14422b96a96c3d7c645970\n"
     ]
    }
   ],
   "source": [
    "from twilio.rest import Client\n",
    "\n",
    "account_sid = 'AC5ddc6377a2e2432d848f2314dd3cf2c7'\n",
    "token = '4859c8bd803ea8113e1d558eeadc5629'\n",
    "\n",
    "client = Client(account_sid, token)\n",
    "\n",
    "remetente = '+19205364557'\n",
    "destino = '+5521970563544'\n",
    "\n",
    "message = client.messages.create(\n",
    "    to=destino, \n",
    "    from_=remetente,\n",
    "    body=\"Coe, é o Anderson aqui!\")\n",
    "\n",
    "print(message.sid)"
   ]
  },
  {
   "cell_type": "code",
   "execution_count": null,
   "metadata": {},
   "outputs": [],
   "source": []
  }
 ],
 "metadata": {
  "kernelspec": {
   "display_name": "Python 3 (ipykernel)",
   "language": "python",
   "name": "python3"
  },
  "language_info": {
   "codemirror_mode": {
    "name": "ipython",
    "version": 3
   },
   "file_extension": ".py",
   "mimetype": "text/x-python",
   "name": "python",
   "nbconvert_exporter": "python",
   "pygments_lexer": "ipython3",
   "version": "3.9.7"
  }
 },
 "nbformat": 4,
 "nbformat_minor": 4
}
